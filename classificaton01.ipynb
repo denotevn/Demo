{
 "cells": [
  {
   "cell_type": "code",
   "execution_count": 2,
   "metadata": {},
   "outputs": [],
   "source": [
    "import pandas as pd\n",
    "import numpy as np \n",
    "from sklearn.model_selection import train_test_split\n",
    "from sklearn.ensemble import RandomForestClassifier\n",
    "from sklearn.preprocessing import StandardScaler\n",
    "import plotly.graph_objects as go\n",
    "from sklearn.metrics import classification_report\n",
    "import matplotlib.pyplot as plt\n",
    "from sklearn.linear_model import LogisticRegression\n",
    "from sklearn.ensemble import ExtraTreesClassifier\n",
    "from sklearn import preprocessing"
   ]
  },
  {
   "cell_type": "code",
   "execution_count": 3,
   "metadata": {},
   "outputs": [
    {
     "data": {
      "text/plain": [
       "(19999, 85)"
      ]
     },
     "execution_count": 3,
     "metadata": {},
     "output_type": "execute_result"
    }
   ],
   "source": [
    "train_data = pd.read_csv(\"/home/tuandinh/Desktop/Demo/data_new/data01.csv\")\n",
    "train_data.shape"
   ]
  },
  {
   "cell_type": "code",
   "execution_count": 4,
   "metadata": {},
   "outputs": [],
   "source": [
    "train_labels = train_data.iloc[:, -1]\n",
    "train_data = train_data.iloc[:, : -1]"
   ]
  },
  {
   "cell_type": "code",
   "execution_count": 5,
   "metadata": {},
   "outputs": [],
   "source": [
    "scaler = preprocessing.StandardScaler().fit(train_data)\n",
    "train_data = scaler.transform(train_data)"
   ]
  },
  {
   "cell_type": "code",
   "execution_count": 6,
   "metadata": {},
   "outputs": [],
   "source": [
    "x_train, x_test, y_train, y_test = train_test_split(train_data, train_labels, test_size=0.2, train_size=0.8, random_state=42, shuffle=True)"
   ]
  },
  {
   "cell_type": "code",
   "execution_count": 7,
   "metadata": {},
   "outputs": [],
   "source": [
    "model01 = RandomForestClassifier(max_depth=2)\n",
    "model01 = model01.fit(x_train, y_train)"
   ]
  },
  {
   "cell_type": "code",
   "execution_count": 8,
   "metadata": {},
   "outputs": [
    {
     "name": "stdout",
     "output_type": "stream",
     "text": [
      "Accuracy: 0.99975\n"
     ]
    }
   ],
   "source": [
    "y_pred = model01.predict(x_test)\n",
    "accuracy = np.mean(y_pred == y_test)\n",
    "print('Accuracy:', accuracy)"
   ]
  },
  {
   "cell_type": "code",
   "execution_count": 9,
   "metadata": {},
   "outputs": [
    {
     "name": "stdout",
     "output_type": "stream",
     "text": [
      "              precision    recall  f1-score   support\n",
      "\n",
      "           0       1.00      1.00      1.00       994\n",
      "           1       1.00      1.00      1.00      1024\n",
      "           2       1.00      1.00      1.00      1005\n",
      "           3       1.00      1.00      1.00       977\n",
      "\n",
      "    accuracy                           1.00      4000\n",
      "   macro avg       1.00      1.00      1.00      4000\n",
      "weighted avg       1.00      1.00      1.00      4000\n",
      "\n"
     ]
    }
   ],
   "source": [
    "score_report = classification_report(y_pred=y_pred, y_true=y_test)\n",
    "print(score_report)"
   ]
  },
  {
   "cell_type": "code",
   "execution_count": 10,
   "metadata": {},
   "outputs": [
    {
     "name": "stdout",
     "output_type": "stream",
     "text": [
      "Chuan doan lan thu 0: [1]\n",
      "Chuan doan lan thu 1: [0]\n",
      "Chuan doan lan thu 2: [1]\n",
      "Chuan doan lan thu 3: [1]\n",
      "Chuan doan lan thu 4: [1]\n",
      "Chuan doan lan thu 5: [1]\n",
      "Chuan doan lan thu 6: [0]\n",
      "Chuan doan lan thu 7: [1]\n",
      "Chuan doan lan thu 8: [1]\n",
      "Chuan doan lan thu 9: [0]\n"
     ]
    }
   ],
   "source": [
    "for i in range(10):\n",
    "    result = model01.predict(x_train[i].reshape(1,-1))\n",
    "    print(f\"Chuan doan lan thu {i}: {result}\")"
   ]
  },
  {
   "cell_type": "code",
   "execution_count": 11,
   "metadata": {},
   "outputs": [
    {
     "name": "stdout",
     "output_type": "stream",
     "text": [
      "Chuan doan lan thu 0: [2]\n",
      "Chuan doan lan thu 1: [0]\n",
      "Chuan doan lan thu 2: [1]\n",
      "Chuan doan lan thu 3: [0]\n",
      "Chuan doan lan thu 4: [2]\n",
      "Chuan doan lan thu 5: [2]\n",
      "Chuan doan lan thu 6: [2]\n",
      "Chuan doan lan thu 7: [0]\n"
     ]
    },
    {
     "name": "stdout",
     "output_type": "stream",
     "text": [
      "Chuan doan lan thu 8: [3]\n",
      "Chuan doan lan thu 9: [1]\n",
      "Chuan doan lan thu 10: [3]\n",
      "Chuan doan lan thu 11: [1]\n",
      "Chuan doan lan thu 12: [3]\n",
      "Chuan doan lan thu 13: [3]\n",
      "Chuan doan lan thu 14: [2]\n",
      "Chuan doan lan thu 15: [1]\n",
      "Chuan doan lan thu 16: [3]\n",
      "Chuan doan lan thu 17: [3]\n",
      "Chuan doan lan thu 18: [1]\n",
      "Chuan doan lan thu 19: [0]\n"
     ]
    }
   ],
   "source": [
    "for i in range(20):\n",
    "    result = model01.predict(x_test[i].reshape(1,-1))\n",
    "    print(f\"Chuan doan lan thu {i}: {result}\")"
   ]
  },
  {
   "cell_type": "markdown",
   "metadata": {},
   "source": [
    "## SVM"
   ]
  },
  {
   "cell_type": "code",
   "execution_count": 15,
   "metadata": {},
   "outputs": [],
   "source": [
    "from sklearn import svm\n",
    "rbf_model = svm.SVC(kernel='rbf').fit(x_train, y_train)"
   ]
  },
  {
   "cell_type": "code",
   "execution_count": 16,
   "metadata": {},
   "outputs": [
    {
     "name": "stdout",
     "output_type": "stream",
     "text": [
      "Accuracy: 1.0\n"
     ]
    }
   ],
   "source": [
    "y_pred = rbf_model.predict(x_test)\n",
    "accuracy = np.mean(y_pred == y_test)\n",
    "print('Accuracy:', accuracy)"
   ]
  },
  {
   "cell_type": "code",
   "execution_count": 14,
   "metadata": {},
   "outputs": [
    {
     "name": "stdout",
     "output_type": "stream",
     "text": [
      "              precision    recall  f1-score   support\n",
      "\n",
      "           0       1.00      1.00      1.00       994\n",
      "           1       1.00      1.00      1.00      1024\n",
      "           2       1.00      1.00      1.00      1005\n",
      "           3       1.00      1.00      1.00       977\n",
      "\n",
      "    accuracy                           1.00      4000\n",
      "   macro avg       1.00      1.00      1.00      4000\n",
      "weighted avg       1.00      1.00      1.00      4000\n",
      "\n"
     ]
    }
   ],
   "source": [
    "score_report = classification_report(y_pred=y_pred, y_true=y_test)\n",
    "print(score_report)"
   ]
  }
 ],
 "metadata": {
  "kernelspec": {
   "display_name": "env",
   "language": "python",
   "name": "python3"
  },
  "language_info": {
   "codemirror_mode": {
    "name": "ipython",
    "version": 3
   },
   "file_extension": ".py",
   "mimetype": "text/x-python",
   "name": "python",
   "nbconvert_exporter": "python",
   "pygments_lexer": "ipython3",
   "version": "3.10.12"
  }
 },
 "nbformat": 4,
 "nbformat_minor": 2
}
